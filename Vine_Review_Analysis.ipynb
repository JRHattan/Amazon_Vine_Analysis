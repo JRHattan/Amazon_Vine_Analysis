{
  "nbformat": 4,
  "nbformat_minor": 0,
  "metadata": {
    "colab": {
      "name": "Vine_Review_Analysis.ipynb",
      "provenance": []
    },
    "kernelspec": {
      "name": "python3",
      "display_name": "Python 3"
    }
  },
  "cells": [
    {
      "cell_type": "code",
      "metadata": {
        "id": "jdTeA_Bmy7UD"
      },
      "source": [
        "import pandas as pd\r\n",
        "import numpy as np\r\n"
      ],
      "execution_count": 2,
      "outputs": []
    },
    {
      "cell_type": "code",
      "metadata": {
        "id": "HIX2nLOP3spv"
      },
      "source": [
        "csv_vine = 'Vine_table_vine.csv'\r\n",
        "csv_no_vine = 'Vine_table_no_vine.csv'"
      ],
      "execution_count": 6,
      "outputs": []
    },
    {
      "cell_type": "code",
      "metadata": {
        "id": "6dvELP07EtLy"
      },
      "source": [
        "vine_df = pd.read_csv(csv_vine)\r\n",
        "no_vine_df = pd.read_csv(csv_no_vine)"
      ],
      "execution_count": 8,
      "outputs": []
    },
    {
      "cell_type": "code",
      "metadata": {
        "colab": {
          "base_uri": "https://localhost:8080/",
          "height": 191
        },
        "id": "wyYQOdttFmoq",
        "outputId": "ac3b2069-959c-4f53-c7f4-183239baf448"
      },
      "source": [
        "vine_df.head()"
      ],
      "execution_count": 9,
      "outputs": [
        {
          "output_type": "execute_result",
          "data": {
            "text/html": [
              "<div>\n",
              "<style scoped>\n",
              "    .dataframe tbody tr th:only-of-type {\n",
              "        vertical-align: middle;\n",
              "    }\n",
              "\n",
              "    .dataframe tbody tr th {\n",
              "        vertical-align: top;\n",
              "    }\n",
              "\n",
              "    .dataframe thead th {\n",
              "        text-align: right;\n",
              "    }\n",
              "</style>\n",
              "<table border=\"1\" class=\"dataframe\">\n",
              "  <thead>\n",
              "    <tr style=\"text-align: right;\">\n",
              "      <th></th>\n",
              "      <th>review_id</th>\n",
              "      <th>star_rating</th>\n",
              "      <th>helpful_votes</th>\n",
              "      <th>total_votes</th>\n",
              "      <th>vine</th>\n",
              "      <th>verified_purchase</th>\n",
              "    </tr>\n",
              "  </thead>\n",
              "  <tbody>\n",
              "    <tr>\n",
              "      <th>0</th>\n",
              "      <td>R3KKUSGFZWSUIY</td>\n",
              "      <td>5</td>\n",
              "      <td>56</td>\n",
              "      <td>63</td>\n",
              "      <td>Y</td>\n",
              "      <td>N</td>\n",
              "    </tr>\n",
              "    <tr>\n",
              "      <th>1</th>\n",
              "      <td>R10FO5UKKVZBK2</td>\n",
              "      <td>3</td>\n",
              "      <td>23</td>\n",
              "      <td>23</td>\n",
              "      <td>Y</td>\n",
              "      <td>N</td>\n",
              "    </tr>\n",
              "    <tr>\n",
              "      <th>2</th>\n",
              "      <td>RM4KSGEOR7MU1</td>\n",
              "      <td>5</td>\n",
              "      <td>19</td>\n",
              "      <td>24</td>\n",
              "      <td>Y</td>\n",
              "      <td>N</td>\n",
              "    </tr>\n",
              "    <tr>\n",
              "      <th>3</th>\n",
              "      <td>RG7VRMYLEXD23</td>\n",
              "      <td>4</td>\n",
              "      <td>22</td>\n",
              "      <td>26</td>\n",
              "      <td>Y</td>\n",
              "      <td>N</td>\n",
              "    </tr>\n",
              "    <tr>\n",
              "      <th>4</th>\n",
              "      <td>R11O4YSCPSNL6L</td>\n",
              "      <td>3</td>\n",
              "      <td>20</td>\n",
              "      <td>26</td>\n",
              "      <td>Y</td>\n",
              "      <td>N</td>\n",
              "    </tr>\n",
              "  </tbody>\n",
              "</table>\n",
              "</div>"
            ],
            "text/plain": [
              "        review_id  star_rating  ...  vine  verified_purchase\n",
              "0  R3KKUSGFZWSUIY            5  ...     Y                  N\n",
              "1  R10FO5UKKVZBK2            3  ...     Y                  N\n",
              "2   RM4KSGEOR7MU1            5  ...     Y                  N\n",
              "3   RG7VRMYLEXD23            4  ...     Y                  N\n",
              "4  R11O4YSCPSNL6L            3  ...     Y                  N\n",
              "\n",
              "[5 rows x 6 columns]"
            ]
          },
          "metadata": {
            "tags": []
          },
          "execution_count": 9
        }
      ]
    },
    {
      "cell_type": "code",
      "metadata": {
        "colab": {
          "base_uri": "https://localhost:8080/"
        },
        "id": "ZnTwYis9GUnY",
        "outputId": "11bbb80e-f5aa-47fe-bae6-7c8337c0b917"
      },
      "source": [
        "vine_df.star_rating.count()"
      ],
      "execution_count": 14,
      "outputs": [
        {
          "output_type": "execute_result",
          "data": {
            "text/plain": [
              "90"
            ]
          },
          "metadata": {
            "tags": []
          },
          "execution_count": 14
        }
      ]
    },
    {
      "cell_type": "code",
      "metadata": {
        "colab": {
          "base_uri": "https://localhost:8080/"
        },
        "id": "M0iBRLpqFPRj",
        "outputId": "c6e2169e-b86b-4b07-965b-4be6253b5514"
      },
      "source": [
        "vine_df.star_rating.value_counts()[5]"
      ],
      "execution_count": 12,
      "outputs": [
        {
          "output_type": "execute_result",
          "data": {
            "text/plain": [
              "44"
            ]
          },
          "metadata": {
            "tags": []
          },
          "execution_count": 12
        }
      ]
    },
    {
      "cell_type": "code",
      "metadata": {
        "colab": {
          "base_uri": "https://localhost:8080/"
        },
        "id": "dFbhkhtrGsNV",
        "outputId": "6c582948-5e2d-4ca3-893f-d81cd332a0ca"
      },
      "source": [
        "44/90"
      ],
      "execution_count": 17,
      "outputs": [
        {
          "output_type": "execute_result",
          "data": {
            "text/plain": [
              "0.4888888888888889"
            ]
          },
          "metadata": {
            "tags": []
          },
          "execution_count": 17
        }
      ]
    },
    {
      "cell_type": "code",
      "metadata": {
        "colab": {
          "base_uri": "https://localhost:8080/"
        },
        "id": "LAwCmEZrGaVu",
        "outputId": "4390b65e-0127-4a6a-d584-78a6f93d9c61"
      },
      "source": [
        "no_vine_df.star_rating.value_counts()[5]"
      ],
      "execution_count": 15,
      "outputs": [
        {
          "output_type": "execute_result",
          "data": {
            "text/plain": [
              "14704"
            ]
          },
          "metadata": {
            "tags": []
          },
          "execution_count": 15
        }
      ]
    },
    {
      "cell_type": "code",
      "metadata": {
        "colab": {
          "base_uri": "https://localhost:8080/"
        },
        "id": "NDrJhVsuGiFR",
        "outputId": "8b108f95-01b1-420c-dbc1-6d9c2b05fca1"
      },
      "source": [
        "no_vine_df.star_rating.count()"
      ],
      "execution_count": 16,
      "outputs": [
        {
          "output_type": "execute_result",
          "data": {
            "text/plain": [
              "37831"
            ]
          },
          "metadata": {
            "tags": []
          },
          "execution_count": 16
        }
      ]
    },
    {
      "cell_type": "code",
      "metadata": {
        "colab": {
          "base_uri": "https://localhost:8080/"
        },
        "id": "ckU_GLdoGvxQ",
        "outputId": "c3d6fabd-4f9d-4556-e187-22e191d84f14"
      },
      "source": [
        "14704/37831"
      ],
      "execution_count": 18,
      "outputs": [
        {
          "output_type": "execute_result",
          "data": {
            "text/plain": [
              "0.38867595358304036"
            ]
          },
          "metadata": {
            "tags": []
          },
          "execution_count": 18
        }
      ]
    }
  ]
}